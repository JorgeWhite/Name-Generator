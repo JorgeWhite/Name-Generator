{
 "cells": [
  {
   "cell_type": "markdown",
   "metadata": {},
   "source": [
    "Recurrent neural network"
   ]
  },
  {
   "cell_type": "code",
   "execution_count": 1,
   "metadata": {},
   "outputs": [],
   "source": [
    "from __future__ import unicode_literals, print_function, division\n",
    "from io import open\n",
    "import glob\n",
    "import os\n",
    "import unicodedata\n",
    "import string\n",
    "import torch\n",
    "import torch.nn as nn"
   ]
  },
  {
   "cell_type": "markdown",
   "metadata": {},
   "source": [
    "Data Lecture and data proccesing."
   ]
  },
  {
   "cell_type": "code",
   "execution_count": 7,
   "metadata": {},
   "outputs": [
    {
     "name": "stdout",
     "output_type": "stream",
     "text": [
      "Letters used:  abcdefghijklmnopqrstuvwxyzABCDEFGHIJKLMNOPQRSTUVWXYZ .,;'-\n"
     ]
    }
   ],
   "source": [
    "# Letters that are going to be used by de NN.\n",
    "\n",
    "all_letters = string.ascii_letters + \" .,;'-\"\n",
    "n_letters = len(all_letters)\n",
    "\n",
    "def find_files(path):\n",
    "    return glob.glob(path)\n",
    "\n",
    "def file_names(path):\n",
    "    names = []\n",
    "    for root, dirs, files in os.walk(path):\n",
    "        for file_ in files:\n",
    "            names.append(os.path.join(root, file_))\n",
    "    return names\n",
    "\n",
    "def unicode_to_ascii(s):\n",
    "    '''\n",
    "    Transform unicode elements to ASCII\n",
    "    '''\n",
    "    return ''.join(\n",
    "        c for c in unicodedata.normalize('NFD', s)\n",
    "        if unicodedata.category(c) != 'Mn'\n",
    "        and c in all_letters\n",
    "        )\n",
    "\n",
    "def read_lines(filename):\n",
    "    '''\n",
    "    Auxiliar function to read lines\n",
    "    '''\n",
    "    lines = opne(filename, encoding='utf-8').read().strip().split('/n')\n",
    "    return [unicode_to_ascii(line) for line in lines]\n",
    "\n",
    "\n",
    "def get_categories(filename):\n",
    "    all_categories = []\n",
    "    category_lines = {}\n",
    "    for file in file_names(filename):\n",
    "        file_name = os.path.splitext(file)[0][8:]\n",
    "        all_categories.append(file_name)\n",
    "        category_lines[file_name] = read_lines(file)\n",
    "    return all_categories, category_lines\n",
    "    \n",
    "categories, cat_lines = get_categories('./names')\n",
    "n_categories = len(categories)\n",
    "\n",
    "if n_categories == 0:\n",
    "    raise RuntimeError('No Data')\n",
    "    \n",
    "print('Categories: ', categories)\n",
    "print('Letters used: ', all_letters)"
   ]
  }
 ],
 "metadata": {
  "kernelspec": {
   "display_name": "Python 3",
   "language": "python",
   "name": "python3"
  },
  "language_info": {
   "codemirror_mode": {
    "name": "ipython",
    "version": 3
   },
   "file_extension": ".py",
   "mimetype": "text/x-python",
   "name": "python",
   "nbconvert_exporter": "python",
   "pygments_lexer": "ipython3",
   "version": "3.8.5"
  }
 },
 "nbformat": 4,
 "nbformat_minor": 4
}
